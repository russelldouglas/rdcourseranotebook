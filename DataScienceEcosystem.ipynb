{
 "cells": [
  {
   "cell_type": "markdown",
   "id": "e7482e94-3888-45f2-a615-b8af3519daa2",
   "metadata": {},
   "source": [
    "# Data Science Tools and Ecosystem"
   ]
  },
  {
   "cell_type": "markdown",
   "id": "5d504626-64e4-4005-92d4-55154317addb",
   "metadata": {},
   "source": [
    "## Author\n",
    "Griffin Mahoney"
   ]
  },
  {
   "cell_type": "markdown",
   "id": "f8338e42-2bfa-4ffe-a7fb-b4d1c8befa86",
   "metadata": {},
   "source": [
    "In this notebook, Data Science Tools and Ecosystem are summarized.  "
   ]
  },
  {
   "cell_type": "markdown",
   "id": "10b45ea1-f2fc-4f5d-b95d-faf353be2270",
   "metadata": {},
   "source": [
    "**Objectives:**  \n",
    "+ List popular languages Data Scientists use\n",
    "+ List common libraries Data Scientists use\n",
    "+ Give examples of arithmetic expressions in Python"
   ]
  },
  {
   "cell_type": "markdown",
   "id": "1e9cdd54-70f9-4f68-8e50-e3cfd74feea2",
   "metadata": {},
   "source": [
    "Some of the popular languages that Data Scientists use are:  \n",
    "1. R  \n",
    "2. Python  \n",
    "3. Java  "
   ]
  },
  {
   "cell_type": "markdown",
   "id": "af5b6db3-e871-4388-af83-ea291a0cb62b",
   "metadata": {},
   "source": [
    "Some of the commonly used libraries used by Data Scientists include:  \n",
    "1. NumPy  \n",
    "2. Matplotlib  \n",
    "3. pandas  "
   ]
  },
  {
   "cell_type": "markdown",
   "id": "073372a4-735b-470c-b890-ccd6d6adfe14",
   "metadata": {},
   "source": [
    "| Data Science Tools |\n",
    "| :--------: |\n",
    "| R Studio |\n",
    "| Apache Spark |\n",
    "| TensorFlow |\n"
   ]
  },
  {
   "cell_type": "markdown",
   "id": "a5a7d4e0-39db-426c-9e4d-51c27bbe5e5a",
   "metadata": {},
   "source": [
    "### Below are a few examples of evaluating arithmetic expressions in Python"
   ]
  },
  {
   "cell_type": "code",
   "execution_count": 11,
   "id": "6d8e6d38-6eab-4b68-9d90-a149247cebec",
   "metadata": {},
   "outputs": [
    {
     "data": {
      "text/plain": [
       "17"
      ]
     },
     "execution_count": 11,
     "metadata": {},
     "output_type": "execute_result"
    }
   ],
   "source": [
    "# This is a simple arithmetic expression to multiply then add integers\n",
    "(3*4)+5"
   ]
  },
  {
   "cell_type": "code",
   "execution_count": 12,
   "id": "3c8c2341-88c3-4ab8-8fe2-b2b5aed67349",
   "metadata": {},
   "outputs": [
    {
     "name": "stdout",
     "output_type": "stream",
     "text": [
      "200 minutes is 3.3333333333333335 hours!\n"
     ]
    }
   ],
   "source": [
    "# This will convert 200 minutes to hours by dividing by 60\n",
    "x=200/60\n",
    "print(\"200 minutes is\", x, \"hours!\")"
   ]
  }
 ],
 "metadata": {
  "kernelspec": {
   "display_name": "Python 3 (ipykernel)",
   "language": "python",
   "name": "python3"
  },
  "language_info": {
   "codemirror_mode": {
    "name": "ipython",
    "version": 3
   },
   "file_extension": ".py",
   "mimetype": "text/x-python",
   "name": "python",
   "nbconvert_exporter": "python",
   "pygments_lexer": "ipython3",
   "version": "3.13.1"
  }
 },
 "nbformat": 4,
 "nbformat_minor": 5
}
